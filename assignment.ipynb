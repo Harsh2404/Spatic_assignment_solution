{
 "cells": [
  {
   "cell_type": "code",
   "execution_count": 14,
   "id": "b2aabc7c",
   "metadata": {},
   "outputs": [],
   "source": [
    "import pandas as pd\n",
    "from math import radians, cos, sin, asin, sqrt\n",
    "import jellyfish"
   ]
  },
  {
   "cell_type": "code",
   "execution_count": 15,
   "id": "b7e3e983",
   "metadata": {},
   "outputs": [],
   "source": [
    "# load the dataset into a pandas dataframe\n",
    "df = pd.read_csv('assignment_data.csv')"
   ]
  },
  {
   "cell_type": "code",
   "execution_count": 16,
   "id": "c1509b4b",
   "metadata": {},
   "outputs": [
    {
     "data": {
      "text/html": [
       "<div>\n",
       "<style scoped>\n",
       "    .dataframe tbody tr th:only-of-type {\n",
       "        vertical-align: middle;\n",
       "    }\n",
       "\n",
       "    .dataframe tbody tr th {\n",
       "        vertical-align: top;\n",
       "    }\n",
       "\n",
       "    .dataframe thead th {\n",
       "        text-align: right;\n",
       "    }\n",
       "</style>\n",
       "<table border=\"1\" class=\"dataframe\">\n",
       "  <thead>\n",
       "    <tr style=\"text-align: right;\">\n",
       "      <th></th>\n",
       "      <th>name</th>\n",
       "      <th>latitude</th>\n",
       "      <th>longitude</th>\n",
       "    </tr>\n",
       "  </thead>\n",
       "  <tbody>\n",
       "    <tr>\n",
       "      <th>0</th>\n",
       "      <td>kbyJYJzqEVkEmpc</td>\n",
       "      <td>13.022860</td>\n",
       "      <td>77.688911</td>\n",
       "    </tr>\n",
       "    <tr>\n",
       "      <th>1</th>\n",
       "      <td>qbgufTPzZEkxNHV</td>\n",
       "      <td>13.093675</td>\n",
       "      <td>77.702779</td>\n",
       "    </tr>\n",
       "    <tr>\n",
       "      <th>2</th>\n",
       "      <td>XWIXkuyDacCmsaE</td>\n",
       "      <td>12.902879</td>\n",
       "      <td>77.633207</td>\n",
       "    </tr>\n",
       "    <tr>\n",
       "      <th>3</th>\n",
       "      <td>PWMPzEhgQSIJFtLl</td>\n",
       "      <td>12.864532</td>\n",
       "      <td>77.731435</td>\n",
       "    </tr>\n",
       "    <tr>\n",
       "      <th>4</th>\n",
       "      <td>PWMPzEhgQSIJFtL</td>\n",
       "      <td>12.865321</td>\n",
       "      <td>77.731473</td>\n",
       "    </tr>\n",
       "    <tr>\n",
       "      <th>...</th>\n",
       "      <td>...</td>\n",
       "      <td>...</td>\n",
       "      <td>...</td>\n",
       "    </tr>\n",
       "    <tr>\n",
       "      <th>11809</th>\n",
       "      <td>OtytDvqWIjeFdAt</td>\n",
       "      <td>12.864681</td>\n",
       "      <td>77.561012</td>\n",
       "    </tr>\n",
       "    <tr>\n",
       "      <th>11810</th>\n",
       "      <td>PGHxYVTKBPvJzRcr</td>\n",
       "      <td>12.878795</td>\n",
       "      <td>77.549211</td>\n",
       "    </tr>\n",
       "    <tr>\n",
       "      <th>11811</th>\n",
       "      <td>PGHxYVTKBPvJzRc</td>\n",
       "      <td>12.879561</td>\n",
       "      <td>77.549147</td>\n",
       "    </tr>\n",
       "    <tr>\n",
       "      <th>11812</th>\n",
       "      <td>KlOFLLHNAvTQOkU</td>\n",
       "      <td>13.061351</td>\n",
       "      <td>77.661640</td>\n",
       "    </tr>\n",
       "    <tr>\n",
       "      <th>11813</th>\n",
       "      <td>BKEsZzrJiKhKIae</td>\n",
       "      <td>13.019981</td>\n",
       "      <td>77.679988</td>\n",
       "    </tr>\n",
       "  </tbody>\n",
       "</table>\n",
       "<p>11814 rows × 3 columns</p>\n",
       "</div>"
      ],
      "text/plain": [
       "                   name   latitude  longitude\n",
       "0       kbyJYJzqEVkEmpc  13.022860  77.688911\n",
       "1       qbgufTPzZEkxNHV  13.093675  77.702779\n",
       "2       XWIXkuyDacCmsaE  12.902879  77.633207\n",
       "3      PWMPzEhgQSIJFtLl  12.864532  77.731435\n",
       "4       PWMPzEhgQSIJFtL  12.865321  77.731473\n",
       "...                 ...        ...        ...\n",
       "11809   OtytDvqWIjeFdAt  12.864681  77.561012\n",
       "11810  PGHxYVTKBPvJzRcr  12.878795  77.549211\n",
       "11811   PGHxYVTKBPvJzRc  12.879561  77.549147\n",
       "11812   KlOFLLHNAvTQOkU  13.061351  77.661640\n",
       "11813   BKEsZzrJiKhKIae  13.019981  77.679988\n",
       "\n",
       "[11814 rows x 3 columns]"
      ]
     },
     "execution_count": 16,
     "metadata": {},
     "output_type": "execute_result"
    }
   ],
   "source": [
    "df"
   ]
  },
  {
   "cell_type": "code",
   "execution_count": 17,
   "id": "baa48c07",
   "metadata": {},
   "outputs": [],
   "source": [
    "df['is_similar']=0"
   ]
  },
  {
   "cell_type": "code",
   "execution_count": 18,
   "id": "9606915d",
   "metadata": {},
   "outputs": [
    {
     "data": {
      "text/html": [
       "<div>\n",
       "<style scoped>\n",
       "    .dataframe tbody tr th:only-of-type {\n",
       "        vertical-align: middle;\n",
       "    }\n",
       "\n",
       "    .dataframe tbody tr th {\n",
       "        vertical-align: top;\n",
       "    }\n",
       "\n",
       "    .dataframe thead th {\n",
       "        text-align: right;\n",
       "    }\n",
       "</style>\n",
       "<table border=\"1\" class=\"dataframe\">\n",
       "  <thead>\n",
       "    <tr style=\"text-align: right;\">\n",
       "      <th></th>\n",
       "      <th>name</th>\n",
       "      <th>latitude</th>\n",
       "      <th>longitude</th>\n",
       "      <th>is_similar</th>\n",
       "    </tr>\n",
       "  </thead>\n",
       "  <tbody>\n",
       "    <tr>\n",
       "      <th>0</th>\n",
       "      <td>kbyJYJzqEVkEmpc</td>\n",
       "      <td>13.022860</td>\n",
       "      <td>77.688911</td>\n",
       "      <td>0</td>\n",
       "    </tr>\n",
       "    <tr>\n",
       "      <th>1</th>\n",
       "      <td>qbgufTPzZEkxNHV</td>\n",
       "      <td>13.093675</td>\n",
       "      <td>77.702779</td>\n",
       "      <td>0</td>\n",
       "    </tr>\n",
       "    <tr>\n",
       "      <th>2</th>\n",
       "      <td>XWIXkuyDacCmsaE</td>\n",
       "      <td>12.902879</td>\n",
       "      <td>77.633207</td>\n",
       "      <td>0</td>\n",
       "    </tr>\n",
       "    <tr>\n",
       "      <th>3</th>\n",
       "      <td>PWMPzEhgQSIJFtLl</td>\n",
       "      <td>12.864532</td>\n",
       "      <td>77.731435</td>\n",
       "      <td>0</td>\n",
       "    </tr>\n",
       "    <tr>\n",
       "      <th>4</th>\n",
       "      <td>PWMPzEhgQSIJFtL</td>\n",
       "      <td>12.865321</td>\n",
       "      <td>77.731473</td>\n",
       "      <td>0</td>\n",
       "    </tr>\n",
       "    <tr>\n",
       "      <th>...</th>\n",
       "      <td>...</td>\n",
       "      <td>...</td>\n",
       "      <td>...</td>\n",
       "      <td>...</td>\n",
       "    </tr>\n",
       "    <tr>\n",
       "      <th>11809</th>\n",
       "      <td>OtytDvqWIjeFdAt</td>\n",
       "      <td>12.864681</td>\n",
       "      <td>77.561012</td>\n",
       "      <td>0</td>\n",
       "    </tr>\n",
       "    <tr>\n",
       "      <th>11810</th>\n",
       "      <td>PGHxYVTKBPvJzRcr</td>\n",
       "      <td>12.878795</td>\n",
       "      <td>77.549211</td>\n",
       "      <td>0</td>\n",
       "    </tr>\n",
       "    <tr>\n",
       "      <th>11811</th>\n",
       "      <td>PGHxYVTKBPvJzRc</td>\n",
       "      <td>12.879561</td>\n",
       "      <td>77.549147</td>\n",
       "      <td>0</td>\n",
       "    </tr>\n",
       "    <tr>\n",
       "      <th>11812</th>\n",
       "      <td>KlOFLLHNAvTQOkU</td>\n",
       "      <td>13.061351</td>\n",
       "      <td>77.661640</td>\n",
       "      <td>0</td>\n",
       "    </tr>\n",
       "    <tr>\n",
       "      <th>11813</th>\n",
       "      <td>BKEsZzrJiKhKIae</td>\n",
       "      <td>13.019981</td>\n",
       "      <td>77.679988</td>\n",
       "      <td>0</td>\n",
       "    </tr>\n",
       "  </tbody>\n",
       "</table>\n",
       "<p>11814 rows × 4 columns</p>\n",
       "</div>"
      ],
      "text/plain": [
       "                   name   latitude  longitude  is_similar\n",
       "0       kbyJYJzqEVkEmpc  13.022860  77.688911           0\n",
       "1       qbgufTPzZEkxNHV  13.093675  77.702779           0\n",
       "2       XWIXkuyDacCmsaE  12.902879  77.633207           0\n",
       "3      PWMPzEhgQSIJFtLl  12.864532  77.731435           0\n",
       "4       PWMPzEhgQSIJFtL  12.865321  77.731473           0\n",
       "...                 ...        ...        ...         ...\n",
       "11809   OtytDvqWIjeFdAt  12.864681  77.561012           0\n",
       "11810  PGHxYVTKBPvJzRcr  12.878795  77.549211           0\n",
       "11811   PGHxYVTKBPvJzRc  12.879561  77.549147           0\n",
       "11812   KlOFLLHNAvTQOkU  13.061351  77.661640           0\n",
       "11813   BKEsZzrJiKhKIae  13.019981  77.679988           0\n",
       "\n",
       "[11814 rows x 4 columns]"
      ]
     },
     "execution_count": 18,
     "metadata": {},
     "output_type": "execute_result"
    }
   ],
   "source": [
    "df"
   ]
  },
  {
   "cell_type": "code",
   "execution_count": 19,
   "id": "f7589e78",
   "metadata": {},
   "outputs": [],
   "source": [
    "# define a function to calculate the Haversine distance between two points\n",
    "def haversine(lat1, lon1, lat2, lon2):\n",
    "    R = 6371  # Earth radius in kilometers\n",
    "\n",
    "    # convert latitude and longitude to radians\n",
    "    dLat = radians(lat2 - lat1)\n",
    "    dLon = radians(lon2 - lon1)\n",
    "    lat1 = radians(lat1)\n",
    "    lat2 = radians(lat2)\n",
    "\n",
    "    # apply the Haversine formula\n",
    "    a = sin(dLat / 2)**2 + cos(lat1) * cos(lat2) * sin(dLon / 2)**2\n",
    "    c = 2 * asin(sqrt(a))\n",
    "    return R * c * 1000  # convert to meters"
   ]
  },
  {
   "cell_type": "code",
   "execution_count": 20,
   "id": "003a75a7",
   "metadata": {},
   "outputs": [],
   "source": [
    "import jellyfish\n",
    "def levenshtein_distance(s1, s2):\n",
    "    return jellyfish.levenshtein_distance(s1,s2)"
   ]
  },
  {
   "cell_type": "code",
   "execution_count": 21,
   "id": "7d3e7fb4",
   "metadata": {},
   "outputs": [],
   "source": [
    "import collections\n",
    "# create a hash table to store the entries by location\n",
    "hash_table = collections.defaultdict(list)\n",
    "for i, row in df.iterrows():\n",
    "    hash_key = (round(row['latitude'], 2), round(row['longitude'], 2))\n",
    "    hash_table[hash_key].append(row)"
   ]
  },
  {
   "cell_type": "markdown",
   "id": "1adacc7a",
   "metadata": {},
   "source": [
    "# Using hashtable for solving this:\n",
    "Step:1 - First,rounding of latitude and longitude of places upto 2 digits"
   ]
  },
  {
   "cell_type": "markdown",
   "id": "ecc76f1e",
   "metadata": {},
   "source": [
    "Step:2 - then creating key using latitude and longitude values and value of that key is place's name"
   ]
  },
  {
   "cell_type": "markdown",
   "id": "e98e67e4",
   "metadata": {},
   "source": [
    "Step:3 - iterating over whole data and forming hashtable"
   ]
  },
  {
   "cell_type": "markdown",
   "id": "8d4a9674",
   "metadata": {},
   "source": [
    "step:4 - going through each key of hashtable and checking if the existing name have levenshtein distance less than 5."
   ]
  },
  {
   "cell_type": "markdown",
   "id": "172435f1",
   "metadata": {},
   "source": [
    "Step:5: if so updating its is_similar value to 1.\n"
   ]
  },
  {
   "cell_type": "code",
   "execution_count": 29,
   "id": "8f04b865",
   "metadata": {},
   "outputs": [],
   "source": [
    "#using hashtable\n",
    "for i, row in df.iterrows():\n",
    "    hash_key = (round(row['latitude'], 2), round(row['longitude'], 2))\n",
    "    neighbors = hash_table[hash_key]\n",
    "    for neighbor in neighbors:\n",
    "        if neighbor['name'] != row['name'] and jellyfish.levenshtein_distance(row['name'], neighbor['name']) <= 5:\n",
    "            distance = haversine(row['latitude'], row['longitude'], neighbor['latitude'], neighbor['longitude'])\n",
    "            if distance <= 200:\n",
    "                df.loc[df.name == row['name'], 'is_similar'] = 1\n",
    "                \n",
    "                "
   ]
  },
  {
   "cell_type": "code",
   "execution_count": 30,
   "id": "94b60833",
   "metadata": {},
   "outputs": [
    {
     "data": {
      "text/plain": [
       "0    8534\n",
       "1    3280\n",
       "Name: is_similar, dtype: int64"
      ]
     },
     "execution_count": 30,
     "metadata": {},
     "output_type": "execute_result"
    }
   ],
   "source": [
    "df['is_similar'].value_counts() "
   ]
  },
  {
   "cell_type": "code",
   "execution_count": 33,
   "id": "d0ee622c",
   "metadata": {},
   "outputs": [],
   "source": [
    "from pathlib import Path  \n",
    "filepath = Path(r'C:\\Users\\admin\\Desktop\\py dev\\result.csv')    \n",
    "df.to_csv(filepath) "
   ]
  },
  {
   "cell_type": "markdown",
   "id": "9006394e",
   "metadata": {},
   "source": [
    "# Naive solution with 2 loop structure"
   ]
  },
  {
   "cell_type": "code",
   "execution_count": 24,
   "id": "75d9a1b0",
   "metadata": {},
   "outputs": [
    {
     "name": "stdout",
     "output_type": "stream",
     "text": [
      "PWMPzEhgQSIJFtLl PWMPzEhgQSIJFtL\n",
      "lqKiDFBZBTWUez lqKiDFBZBTWXUez\n",
      "sjislLxiXZmXLXrA sjislLxiXZmXLXr\n",
      "tnbuHQPEFCTHbM KtnbuHQPEFCTHbM\n",
      "zQDGraifUKPvJXrh zQDGraifUKPvJXr\n",
      "IiUaIKLepwZKsK IiUaIKLepwZlKsK\n",
      "AHzXGncOYekvbc AHzXGncOYekMvbc\n",
      "DkRreiaFouYeugQi DkRreiaFouYeugQ\n",
      "aXvBGKUTNkPDxiFC aXvBGKUTNkPDxiF\n",
      "SdxKQfPDkfXEQK SGdxKQfPDkfXEQK\n",
      "kUeXLNDvRBgMgJ kUeXLNDkvRBgMgJ\n",
      "kAbqVgEBpxFnneeo kAbqVgEBpxFnnee\n",
      "lTtlymCLWsWZWsVq lTtlymCLWsWZWsV\n",
      "OQwFZvRDfaPmST OQwFZvRDfaXPmST\n",
      "NibgfyKYxNWbeKLg NibgfyKYxNWbeKL\n",
      "oUvkVqDnWziwqkHa oUvkVqDnWziwqkH\n",
      "uSpRTMsPPxpYrXYN uSpRTMsPPxpYrXY\n",
      "jpwlGIswRSROHnHt jpwlGIswRSROHnH\n",
      "dqBETBbjtnmCjfyH dqBETBbjtnmCjfy\n",
      "nLZxHFpewcAGrx nLZxHFpbewcAGrx\n",
      "DoogkGPglaOVapTC DoogkGPglaOVapT\n",
      "AfxToToeaPWvZWPw AfxToToeaPWvZWP\n",
      "epgERAsQdMmYvlWO epgERAsQdMmYvlW\n",
      "QGKQMGFUVAUvHwbi QGKQMGFUVAUvHwb\n",
      "cNiURThlENYskRGc cNiURThlENYskRG\n",
      "DBhEnsjgbbSoIUZY DBhEnsjgbbSoIUZ\n",
      "AxKufLnhldOPnv AxKufWLnhldOPnv\n",
      "JIisjtNghRsdZr JKIisjtNghRsdZr\n",
      "wybMltMlRsyUSZUm wybMltMlRsyUSZU\n",
      "LrmrIIpDnzxnKEfZ LrmrIIpDnzxnKEf\n",
      "joTFJKovMIUVQtvT joTFJKovMIUVQtv\n",
      "ArnQxoKYkDZyFatX ArnQxoKYkDZyFat\n",
      "CnRfsPRFUuNJhw CnRfsPRFUuNJhAw\n",
      "BQpBtdNGIRjYTRUm BQpBtdNGIRjYTRU\n",
      "lWndPrbYBwtVjA lWndPrbYBwtVjAU\n",
      "EkkrUCSmBLTSTz EkkrUCSmBLTSTzC\n",
      "hwqgDBUcZbgmHxzw hwqgDBUcZbgmHxz\n",
      "acketlKpXhcGiMcw acketlKpXhcGiMc\n",
      "biSfdxNiyizULhFr biSfdxNiyizULhF\n",
      "KqNJrejuJqrVjwan KqNJrejuJqrVjwa\n",
      "kqWIMeaoZrwqGW kqWIdMeaoZrwqGW\n",
      "nvdUvfplxjiPYGLK nvdUvfplxjiPYGL\n",
      "OqJijwWCfiglkf OqJijwWCfigslkf\n",
      "hTEBAWYvcKuAvNuA hTEBAWYvcKuAvNu\n",
      "CYuBtPCgDJFWZz CYuBtPCgDJFWZLz\n",
      "LOgdSCRsXuMQLJ LOgNdSCRsXuMQLJ\n",
      "WEeegLYYvdQftC WEeeTgLYYvdQftC\n",
      "YfxWxCKlmeOQrN YfxWxCKllmeOQrN\n",
      "ttjpAppqdIOtlgFD ttjpAppqdIOtlgF\n",
      "mZYydyyDPPpPzuvQ mZYydyyDPPpPzuv\n",
      "InXyxxYvuOtrwxBz InXyxxYvuOtrwxB\n",
      "jJVysWnvThEfVN jEJVysWnvThEfVN\n",
      "QcmbKHLRVzKopHoz QcmbKHLRVzKopHo\n",
      "uOfuqQKCfUvxLHzl uOfuqQKCfUvxLHz\n",
      "ZqvgwmPEoXzgQv ZlqvgwmPEoXzgQv\n",
      "yLlHSCHUezLTStAe yLlHSCHUezLTStA\n",
      "zpVccYFOysOPBb zpVccYFOcysOPBb\n",
      "jAuCBcIOebjPtL jAuCBcIOJebjPtL\n",
      "UHvHflhMWGpvEzuo UHvHflhMWGpvEzu\n",
      "BoJCqoJklxplftqF BoJCqoJklxplftq\n",
      "UaNAjlVwovchJv UaNAjlVmwovchJv\n",
      "SYgrIhsaCxBHBh SYgOrIhsaCxBHBh\n",
      "XbOtjZlbsSqrrYRV XbOtjZlbsSqrrYR\n",
      "TAevJytephHIrIRM TAevJytephHIrIR\n",
      "lCARbRkAOZNJrMgI lCARbRkAOZNJrMg\n",
      "YoKsktuOqMWVqm YoKsBktuOqMWVqm\n",
      "cdWCGGBLCRmsXsiJ cdWCGGBLCRmsXsi\n",
      "aLkNGsfsCEGxqM XaLkNGsfsCEGxqM\n",
      "JRqHDdwTdpSwjDsg JRqHDdwTdpSwjDs\n",
      "gzvxBpINFCOewtSW gzvxBpINFCOewtS\n",
      "cswlTnDcEWpQpxou cswlTnDcEWpQpxo\n",
      "lmGZlXHKNgHlXp ElmGZlXHKNgHlXp\n",
      "qBuXyESZtjaDGgdK qBuXyESZtjaDGgd\n",
      "sYKZWdrZxoANaz sYKZWdrZxoANlaz\n",
      "YZOvCiKFJOTQAx YZOvCiKFJzOTQAx\n",
      "xPbNQoupguslWG xPbNQoupgsuslWG\n",
      "LoZRugDaZMiyUllk LoZRugDaZMiyUll\n",
      "oezEyHeDVOrYAFEf oezEyHeDVOrYAFE\n",
      "WPZRoaYMTsQMVpup WPZRoaYMTsQMVpu\n"
     ]
    },
    {
     "ename": "KeyboardInterrupt",
     "evalue": "",
     "output_type": "error",
     "traceback": [
      "\u001b[1;31m---------------------------------------------------------------------------\u001b[0m",
      "\u001b[1;31mKeyboardInterrupt\u001b[0m                         Traceback (most recent call last)",
      "Cell \u001b[1;32mIn[24], line 5\u001b[0m\n\u001b[0;32m      2\u001b[0m \u001b[38;5;28;01mfor\u001b[39;00m i \u001b[38;5;129;01min\u001b[39;00m \u001b[38;5;28mrange\u001b[39m(\u001b[38;5;28mlen\u001b[39m(df)):\n\u001b[0;32m      3\u001b[0m     \u001b[38;5;28;01mfor\u001b[39;00m j \u001b[38;5;129;01min\u001b[39;00m \u001b[38;5;28mrange\u001b[39m(i\u001b[38;5;241m+\u001b[39m\u001b[38;5;241m1\u001b[39m, \u001b[38;5;28mlen\u001b[39m(df)):\n\u001b[0;32m      4\u001b[0m         \u001b[38;5;66;03m# calculate the distance between the two entries\u001b[39;00m\n\u001b[1;32m----> 5\u001b[0m         m \u001b[38;5;241m=\u001b[39m levenshtein_distance(df\u001b[38;5;241m.\u001b[39miloc[i][\u001b[38;5;124m'\u001b[39m\u001b[38;5;124mname\u001b[39m\u001b[38;5;124m'\u001b[39m],\u001b[43mdf\u001b[49m\u001b[38;5;241;43m.\u001b[39;49m\u001b[43miloc\u001b[49m\u001b[43m[\u001b[49m\u001b[43mj\u001b[49m\u001b[43m]\u001b[49m[\u001b[38;5;124m'\u001b[39m\u001b[38;5;124mname\u001b[39m\u001b[38;5;124m'\u001b[39m])\n\u001b[0;32m      7\u001b[0m         \u001b[38;5;66;03m# check if the distance is less than 200 meters and if the names are similar\u001b[39;00m\n\u001b[0;32m      8\u001b[0m         \u001b[38;5;28;01mif\u001b[39;00m m \u001b[38;5;241m<\u001b[39m\u001b[38;5;241m5\u001b[39m \u001b[38;5;129;01mand\u001b[39;00m haversine(df\u001b[38;5;241m.\u001b[39miloc[i][\u001b[38;5;124m'\u001b[39m\u001b[38;5;124mlatitude\u001b[39m\u001b[38;5;124m'\u001b[39m], df\u001b[38;5;241m.\u001b[39miloc[i][\u001b[38;5;124m'\u001b[39m\u001b[38;5;124mlongitude\u001b[39m\u001b[38;5;124m'\u001b[39m], df\u001b[38;5;241m.\u001b[39miloc[j][\u001b[38;5;124m'\u001b[39m\u001b[38;5;124mlatitude\u001b[39m\u001b[38;5;124m'\u001b[39m], df\u001b[38;5;241m.\u001b[39miloc[j][\u001b[38;5;124m'\u001b[39m\u001b[38;5;124mlongitude\u001b[39m\u001b[38;5;124m'\u001b[39m]) \u001b[38;5;241m<\u001b[39m\u001b[38;5;241m=\u001b[39m \u001b[38;5;241m200\u001b[39m :\n",
      "File \u001b[1;32m~\\anaconda3\\envs\\pydev\\lib\\site-packages\\pandas\\core\\indexing.py:1073\u001b[0m, in \u001b[0;36m_LocationIndexer.__getitem__\u001b[1;34m(self, key)\u001b[0m\n\u001b[0;32m   1070\u001b[0m axis \u001b[38;5;241m=\u001b[39m \u001b[38;5;28mself\u001b[39m\u001b[38;5;241m.\u001b[39maxis \u001b[38;5;129;01mor\u001b[39;00m \u001b[38;5;241m0\u001b[39m\n\u001b[0;32m   1072\u001b[0m maybe_callable \u001b[38;5;241m=\u001b[39m com\u001b[38;5;241m.\u001b[39mapply_if_callable(key, \u001b[38;5;28mself\u001b[39m\u001b[38;5;241m.\u001b[39mobj)\n\u001b[1;32m-> 1073\u001b[0m \u001b[38;5;28;01mreturn\u001b[39;00m \u001b[38;5;28;43mself\u001b[39;49m\u001b[38;5;241;43m.\u001b[39;49m\u001b[43m_getitem_axis\u001b[49m\u001b[43m(\u001b[49m\u001b[43mmaybe_callable\u001b[49m\u001b[43m,\u001b[49m\u001b[43m \u001b[49m\u001b[43maxis\u001b[49m\u001b[38;5;241;43m=\u001b[39;49m\u001b[43maxis\u001b[49m\u001b[43m)\u001b[49m\n",
      "File \u001b[1;32m~\\anaconda3\\envs\\pydev\\lib\\site-packages\\pandas\\core\\indexing.py:1627\u001b[0m, in \u001b[0;36m_iLocIndexer._getitem_axis\u001b[1;34m(self, key, axis)\u001b[0m\n\u001b[0;32m   1624\u001b[0m \u001b[38;5;66;03m# validate the location\u001b[39;00m\n\u001b[0;32m   1625\u001b[0m \u001b[38;5;28mself\u001b[39m\u001b[38;5;241m.\u001b[39m_validate_integer(key, axis)\n\u001b[1;32m-> 1627\u001b[0m \u001b[38;5;28;01mreturn\u001b[39;00m \u001b[38;5;28;43mself\u001b[39;49m\u001b[38;5;241;43m.\u001b[39;49m\u001b[43mobj\u001b[49m\u001b[38;5;241;43m.\u001b[39;49m\u001b[43m_ixs\u001b[49m\u001b[43m(\u001b[49m\u001b[43mkey\u001b[49m\u001b[43m,\u001b[49m\u001b[43m \u001b[49m\u001b[43maxis\u001b[49m\u001b[38;5;241;43m=\u001b[39;49m\u001b[43maxis\u001b[49m\u001b[43m)\u001b[49m\n",
      "File \u001b[1;32m~\\anaconda3\\envs\\pydev\\lib\\site-packages\\pandas\\core\\frame.py:3720\u001b[0m, in \u001b[0;36mDataFrame._ixs\u001b[1;34m(self, i, axis)\u001b[0m\n\u001b[0;32m   3718\u001b[0m \u001b[38;5;66;03m# if we are a copy, mark as such\u001b[39;00m\n\u001b[0;32m   3719\u001b[0m copy \u001b[38;5;241m=\u001b[39m \u001b[38;5;28misinstance\u001b[39m(new_mgr\u001b[38;5;241m.\u001b[39marray, np\u001b[38;5;241m.\u001b[39mndarray) \u001b[38;5;129;01mand\u001b[39;00m new_mgr\u001b[38;5;241m.\u001b[39marray\u001b[38;5;241m.\u001b[39mbase \u001b[38;5;129;01mis\u001b[39;00m \u001b[38;5;28;01mNone\u001b[39;00m\n\u001b[1;32m-> 3720\u001b[0m result \u001b[38;5;241m=\u001b[39m \u001b[38;5;28;43mself\u001b[39;49m\u001b[38;5;241;43m.\u001b[39;49m\u001b[43m_constructor_sliced\u001b[49m\u001b[43m(\u001b[49m\u001b[43mnew_mgr\u001b[49m\u001b[43m,\u001b[49m\u001b[43m \u001b[49m\u001b[43mname\u001b[49m\u001b[38;5;241;43m=\u001b[39;49m\u001b[38;5;28;43mself\u001b[39;49m\u001b[38;5;241;43m.\u001b[39;49m\u001b[43mindex\u001b[49m\u001b[43m[\u001b[49m\u001b[43mi\u001b[49m\u001b[43m]\u001b[49m\u001b[43m)\u001b[49m\u001b[38;5;241m.\u001b[39m__finalize__(\n\u001b[0;32m   3721\u001b[0m     \u001b[38;5;28mself\u001b[39m\n\u001b[0;32m   3722\u001b[0m )\n\u001b[0;32m   3723\u001b[0m result\u001b[38;5;241m.\u001b[39m_set_is_copy(\u001b[38;5;28mself\u001b[39m, copy\u001b[38;5;241m=\u001b[39mcopy)\n\u001b[0;32m   3724\u001b[0m \u001b[38;5;28;01mreturn\u001b[39;00m result\n",
      "File \u001b[1;32m~\\anaconda3\\envs\\pydev\\lib\\site-packages\\pandas\\core\\series.py:364\u001b[0m, in \u001b[0;36mSeries.__init__\u001b[1;34m(self, data, index, dtype, name, copy, fastpath)\u001b[0m\n\u001b[0;32m    362\u001b[0m         \u001b[38;5;28mobject\u001b[39m\u001b[38;5;241m.\u001b[39m\u001b[38;5;21m__setattr__\u001b[39m(\u001b[38;5;28mself\u001b[39m, \u001b[38;5;124m\"\u001b[39m\u001b[38;5;124m_name\u001b[39m\u001b[38;5;124m\"\u001b[39m, name)\n\u001b[0;32m    363\u001b[0m     \u001b[38;5;28;01melse\u001b[39;00m:\n\u001b[1;32m--> 364\u001b[0m         \u001b[38;5;28;43mself\u001b[39;49m\u001b[38;5;241;43m.\u001b[39;49m\u001b[43mname\u001b[49m \u001b[38;5;241m=\u001b[39m name\n\u001b[0;32m    365\u001b[0m     \u001b[38;5;28;01mreturn\u001b[39;00m\n\u001b[0;32m    367\u001b[0m \u001b[38;5;66;03m# we are called internally, so short-circuit\u001b[39;00m\n",
      "File \u001b[1;32m~\\anaconda3\\envs\\pydev\\lib\\site-packages\\pandas\\core\\generic.py:5924\u001b[0m, in \u001b[0;36mNDFrame.__setattr__\u001b[1;34m(self, name, value)\u001b[0m\n\u001b[0;32m   5922\u001b[0m     \u001b[38;5;28mobject\u001b[39m\u001b[38;5;241m.\u001b[39m\u001b[38;5;21m__setattr__\u001b[39m(\u001b[38;5;28mself\u001b[39m, name, value)\n\u001b[0;32m   5923\u001b[0m \u001b[38;5;28;01melif\u001b[39;00m name \u001b[38;5;129;01min\u001b[39;00m \u001b[38;5;28mself\u001b[39m\u001b[38;5;241m.\u001b[39m_metadata:\n\u001b[1;32m-> 5924\u001b[0m     \u001b[38;5;28;43mobject\u001b[39;49m\u001b[38;5;241;43m.\u001b[39;49m\u001b[38;5;21;43m__setattr__\u001b[39;49m\u001b[43m(\u001b[49m\u001b[38;5;28;43mself\u001b[39;49m\u001b[43m,\u001b[49m\u001b[43m \u001b[49m\u001b[43mname\u001b[49m\u001b[43m,\u001b[49m\u001b[43m \u001b[49m\u001b[43mvalue\u001b[49m\u001b[43m)\u001b[49m\n\u001b[0;32m   5925\u001b[0m \u001b[38;5;28;01melse\u001b[39;00m:\n\u001b[0;32m   5926\u001b[0m     \u001b[38;5;28;01mtry\u001b[39;00m:\n",
      "File \u001b[1;32m~\\anaconda3\\envs\\pydev\\lib\\site-packages\\pandas\\core\\series.py:663\u001b[0m, in \u001b[0;36mSeries.name\u001b[1;34m(self, value)\u001b[0m\n\u001b[0;32m    661\u001b[0m \u001b[38;5;129m@name\u001b[39m\u001b[38;5;241m.\u001b[39msetter\n\u001b[0;32m    662\u001b[0m \u001b[38;5;28;01mdef\u001b[39;00m \u001b[38;5;21mname\u001b[39m(\u001b[38;5;28mself\u001b[39m, value: Hashable) \u001b[38;5;241m-\u001b[39m\u001b[38;5;241m>\u001b[39m \u001b[38;5;28;01mNone\u001b[39;00m:\n\u001b[1;32m--> 663\u001b[0m     \u001b[43mvalidate_all_hashable\u001b[49m\u001b[43m(\u001b[49m\u001b[43mvalue\u001b[49m\u001b[43m,\u001b[49m\u001b[43m \u001b[49m\u001b[43merror_name\u001b[49m\u001b[38;5;241;43m=\u001b[39;49m\u001b[38;5;124;43mf\u001b[39;49m\u001b[38;5;124;43m\"\u001b[39;49m\u001b[38;5;132;43;01m{\u001b[39;49;00m\u001b[38;5;28;43mtype\u001b[39;49m\u001b[43m(\u001b[49m\u001b[38;5;28;43mself\u001b[39;49m\u001b[43m)\u001b[49m\u001b[38;5;241;43m.\u001b[39;49m\u001b[38;5;18;43m__name__\u001b[39;49m\u001b[38;5;132;43;01m}\u001b[39;49;00m\u001b[38;5;124;43m.name\u001b[39;49m\u001b[38;5;124;43m\"\u001b[39;49m\u001b[43m)\u001b[49m\n\u001b[0;32m    664\u001b[0m     \u001b[38;5;28mobject\u001b[39m\u001b[38;5;241m.\u001b[39m\u001b[38;5;21m__setattr__\u001b[39m(\u001b[38;5;28mself\u001b[39m, \u001b[38;5;124m\"\u001b[39m\u001b[38;5;124m_name\u001b[39m\u001b[38;5;124m\"\u001b[39m, value)\n",
      "File \u001b[1;32m~\\anaconda3\\envs\\pydev\\lib\\site-packages\\pandas\\core\\dtypes\\common.py:1744\u001b[0m, in \u001b[0;36mvalidate_all_hashable\u001b[1;34m(error_name, *args)\u001b[0m\n\u001b[0;32m   1725\u001b[0m \u001b[38;5;28;01mdef\u001b[39;00m \u001b[38;5;21mvalidate_all_hashable\u001b[39m(\u001b[38;5;241m*\u001b[39margs, error_name: \u001b[38;5;28mstr\u001b[39m \u001b[38;5;241m|\u001b[39m \u001b[38;5;28;01mNone\u001b[39;00m \u001b[38;5;241m=\u001b[39m \u001b[38;5;28;01mNone\u001b[39;00m) \u001b[38;5;241m-\u001b[39m\u001b[38;5;241m>\u001b[39m \u001b[38;5;28;01mNone\u001b[39;00m:\n\u001b[0;32m   1726\u001b[0m \u001b[38;5;250m    \u001b[39m\u001b[38;5;124;03m\"\"\"\u001b[39;00m\n\u001b[0;32m   1727\u001b[0m \u001b[38;5;124;03m    Return None if all args are hashable, else raise a TypeError.\u001b[39;00m\n\u001b[0;32m   1728\u001b[0m \n\u001b[1;32m   (...)\u001b[0m\n\u001b[0;32m   1742\u001b[0m \u001b[38;5;124;03m    None\u001b[39;00m\n\u001b[0;32m   1743\u001b[0m \u001b[38;5;124;03m    \"\"\"\u001b[39;00m\n\u001b[1;32m-> 1744\u001b[0m     \u001b[38;5;28;01mif\u001b[39;00m \u001b[38;5;129;01mnot\u001b[39;00m \u001b[38;5;28;43mall\u001b[39;49m\u001b[43m(\u001b[49m\u001b[43mis_hashable\u001b[49m\u001b[43m(\u001b[49m\u001b[43marg\u001b[49m\u001b[43m)\u001b[49m\u001b[43m \u001b[49m\u001b[38;5;28;43;01mfor\u001b[39;49;00m\u001b[43m \u001b[49m\u001b[43marg\u001b[49m\u001b[43m \u001b[49m\u001b[38;5;129;43;01min\u001b[39;49;00m\u001b[43m \u001b[49m\u001b[43margs\u001b[49m\u001b[43m)\u001b[49m:\n\u001b[0;32m   1745\u001b[0m         \u001b[38;5;28;01mif\u001b[39;00m error_name:\n\u001b[0;32m   1746\u001b[0m             \u001b[38;5;28;01mraise\u001b[39;00m \u001b[38;5;167;01mTypeError\u001b[39;00m(\u001b[38;5;124mf\u001b[39m\u001b[38;5;124m\"\u001b[39m\u001b[38;5;132;01m{\u001b[39;00merror_name\u001b[38;5;132;01m}\u001b[39;00m\u001b[38;5;124m must be a hashable type\u001b[39m\u001b[38;5;124m\"\u001b[39m)\n",
      "File \u001b[1;32m~\\anaconda3\\envs\\pydev\\lib\\site-packages\\pandas\\core\\dtypes\\common.py:1744\u001b[0m, in \u001b[0;36m<genexpr>\u001b[1;34m(.0)\u001b[0m\n\u001b[0;32m   1725\u001b[0m \u001b[38;5;28;01mdef\u001b[39;00m \u001b[38;5;21mvalidate_all_hashable\u001b[39m(\u001b[38;5;241m*\u001b[39margs, error_name: \u001b[38;5;28mstr\u001b[39m \u001b[38;5;241m|\u001b[39m \u001b[38;5;28;01mNone\u001b[39;00m \u001b[38;5;241m=\u001b[39m \u001b[38;5;28;01mNone\u001b[39;00m) \u001b[38;5;241m-\u001b[39m\u001b[38;5;241m>\u001b[39m \u001b[38;5;28;01mNone\u001b[39;00m:\n\u001b[0;32m   1726\u001b[0m \u001b[38;5;250m    \u001b[39m\u001b[38;5;124;03m\"\"\"\u001b[39;00m\n\u001b[0;32m   1727\u001b[0m \u001b[38;5;124;03m    Return None if all args are hashable, else raise a TypeError.\u001b[39;00m\n\u001b[0;32m   1728\u001b[0m \n\u001b[1;32m   (...)\u001b[0m\n\u001b[0;32m   1742\u001b[0m \u001b[38;5;124;03m    None\u001b[39;00m\n\u001b[0;32m   1743\u001b[0m \u001b[38;5;124;03m    \"\"\"\u001b[39;00m\n\u001b[1;32m-> 1744\u001b[0m     \u001b[38;5;28;01mif\u001b[39;00m \u001b[38;5;129;01mnot\u001b[39;00m \u001b[38;5;28mall\u001b[39m(is_hashable(arg) \u001b[38;5;28;01mfor\u001b[39;00m arg \u001b[38;5;129;01min\u001b[39;00m args):\n\u001b[0;32m   1745\u001b[0m         \u001b[38;5;28;01mif\u001b[39;00m error_name:\n\u001b[0;32m   1746\u001b[0m             \u001b[38;5;28;01mraise\u001b[39;00m \u001b[38;5;167;01mTypeError\u001b[39;00m(\u001b[38;5;124mf\u001b[39m\u001b[38;5;124m\"\u001b[39m\u001b[38;5;132;01m{\u001b[39;00merror_name\u001b[38;5;132;01m}\u001b[39;00m\u001b[38;5;124m must be a hashable type\u001b[39m\u001b[38;5;124m\"\u001b[39m)\n",
      "\u001b[1;31mKeyboardInterrupt\u001b[0m: "
     ]
    }
   ],
   "source": [
    "# iterate over all pairs of entries in the dataframe\n",
    "for i in range(len(df)):\n",
    "    for j in range(i+1, len(df)):\n",
    "        # calculate the distance between the two entries\n",
    "        m = levenshtein_distance(df.iloc[i]['name'],df.iloc[j]['name'])\n",
    "\n",
    "        # check if the distance is less than 200 meters and if the names are similar\n",
    "        if m <5 and haversine(df.iloc[i]['latitude'], df.iloc[i]['longitude'], df.iloc[j]['latitude'], df.iloc[j]['longitude']) <= 200 :\n",
    "            print(df.iloc[i]['name'],df.iloc[j]['name'])"
   ]
  },
  {
   "cell_type": "code",
   "execution_count": null,
   "id": "336ffaa4",
   "metadata": {},
   "outputs": [],
   "source": []
  }
 ],
 "metadata": {
  "kernelspec": {
   "display_name": "Python 3 (ipykernel)",
   "language": "python",
   "name": "python3"
  },
  "language_info": {
   "codemirror_mode": {
    "name": "ipython",
    "version": 3
   },
   "file_extension": ".py",
   "mimetype": "text/x-python",
   "name": "python",
   "nbconvert_exporter": "python",
   "pygments_lexer": "ipython3",
   "version": "3.10.9"
  }
 },
 "nbformat": 4,
 "nbformat_minor": 5
}
